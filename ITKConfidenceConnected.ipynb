{
 "cells": [
  {
   "cell_type": "code",
   "execution_count": 1,
   "metadata": {},
   "outputs": [
    {
     "name": "stdout",
     "output_type": "stream",
     "text": [
      "Requirement already up-to-date: pip in /home/matt/bin/venvs/confidence-connected/lib/python2.7/site-packages\n",
      "Requirement already satisfied: itk in /home/matt/bin/venvs/confidence-connected/lib/python2.7/site-packages\n"
     ]
    }
   ],
   "source": [
    "# Install ITK\n",
    "import pip\n",
    "pip.main(['install', '--upgrade', 'pip'])\n",
    "pip.main(['install', 'itk', '-f', 'https://github.com/InsightSoftwareConsortium/ITKPythonPackage/releases/tag/latest'])\n",
    "\n",
    "import itk"
   ]
  },
  {
   "cell_type": "code",
   "execution_count": 2,
   "metadata": {},
   "outputs": [
    {
     "name": "stdout",
     "output_type": "stream",
     "text": [
      "Requirement already satisfied: requests in /home/matt/bin/venvs/confidence-connected/lib/python2.7/site-packages\n"
     ]
    }
   ],
   "source": [
    "# Get a brain MRI dataset\n",
    "pip.main(['install', 'requests'])\n",
    "import requests\n",
    "\n",
    "url = 'https://data.kitware.com/api/v1/file/588271308d777f4f3f3072e2/download'\n",
    "filename = 'brainweb165a10f17.mha'\n",
    "\n",
    "request = requests.get(url)\n",
    "with open('brainweb165a10f17.mha', 'wb') as fp:\n",
    "    fp.write(request.content)"
   ]
  },
  {
   "cell_type": "code",
   "execution_count": 3,
   "metadata": {},
   "outputs": [
    {
     "name": "stdout",
     "output_type": "stream",
     "text": [
      "Image (0x280ca70)\n",
      "  RTTI typeinfo:   itk::Image<unsigned char, 3u>\n",
      "  Reference Count: 2\n",
      "  Modified Time: 323\n",
      "  Debug: Off\n",
      "  Object Name: \n",
      "  Observers: \n",
      "    none\n",
      "  Source: (0x412fd10) \n",
      "  Source output name: Primary\n",
      "  Release Data: Off\n",
      "  Data Released: False\n",
      "  Global Release Data: Off\n",
      "  PipelineMTime: 167\n",
      "  UpdateMTime: 324\n",
      "  RealTimeStamp: 0 seconds \n",
      "  LargestPossibleRegion: \n",
      "    Dimension: 3\n",
      "    Index: [0, 0, 0]\n",
      "    Size: [181, 217, 180]\n",
      "  BufferedRegion: \n",
      "    Dimension: 3\n",
      "    Index: [0, 0, 0]\n",
      "    Size: [181, 217, 180]\n",
      "  RequestedRegion: \n",
      "    Dimension: 3\n",
      "    Index: [0, 0, 0]\n",
      "    Size: [181, 217, 180]\n",
      "  Spacing: [1, 1, 1]\n",
      "  Origin: [0, 0, 0]\n",
      "  Direction: \n",
      "1 0 0\n",
      "0 1 0\n",
      "0 0 1\n",
      "\n",
      "  IndexToPointMatrix: \n",
      "1 0 0\n",
      "0 1 0\n",
      "0 0 1\n",
      "\n",
      "  PointToIndexMatrix: \n",
      "1 0 0\n",
      "0 1 0\n",
      "0 0 1\n",
      "\n",
      "  Inverse Direction: \n",
      "1 0 0\n",
      "0 1 0\n",
      "0 0 1\n",
      "\n",
      "  PixelContainer: \n",
      "    ImportImageContainer (0x40c19a0)\n",
      "      RTTI typeinfo:   itk::ImportImageContainer<unsigned long, unsigned char>\n",
      "      Reference Count: 1\n",
      "      Modified Time: 321\n",
      "      Debug: Off\n",
      "      Object Name: \n",
      "      Observers: \n",
      "        none\n",
      "      Pointer: 0x7f8b2d813010\n",
      "      Container manages memory: true\n",
      "      Size: 7069860\n",
      "      Capacity: 7069860\n",
      "\n"
     ]
    }
   ],
   "source": [
    "# Read in the image\n",
    "reader = itk.ImageFileReader.New(FileName=filename)\n",
    "reader.Update()\n",
    "input_image = reader.GetOutput()\n",
    "print(input_image)"
   ]
  },
  {
   "cell_type": "code",
   "execution_count": 4,
   "metadata": {
    "collapsed": true
   },
   "outputs": [],
   "source": [
    "# The image type we will use to process the image\n",
    "PixelType = itk.ctype('float')\n",
    "Dimension = 3\n",
    "\n",
    "ImageType = itk.Image[PixelType, Dimension]"
   ]
  },
  {
   "cell_type": "code",
   "execution_count": 5,
   "metadata": {
    "collapsed": true
   },
   "outputs": [],
   "source": [
    "InputImageType = type(input_image)\n",
    "caster = itk.CastImageFilter[InputImageType, ImageType].New(input_image)"
   ]
  },
  {
   "cell_type": "code",
   "execution_count": 6,
   "metadata": {
    "collapsed": true
   },
   "outputs": [],
   "source": [
    "# Smooth the image\n",
    "smoother = itk.CurvatureFlowImageFilter.New(caster.GetOutput())\n",
    "smoother.SetNumberOfIterations(6)\n",
    "smoother.SetTimeStep(0.05)"
   ]
  },
  {
   "cell_type": "code",
   "execution_count": 7,
   "metadata": {
    "collapsed": true
   },
   "outputs": [],
   "source": [
    "confidence_connected = itk.ConfidenceConnectedImageFilter[ImageType, InputImageType].New()\n",
    "confidence_connected.SetInput(smoother.GetOutput())\n",
    "confidence_connected.SetMultiplier(2.5)\n",
    "confidence_connected.SetNumberOfIterations(5)\n",
    "confidence_connected.SetInitialNeighborhoodRadius(2)\n",
    "confidence_connected.SetReplaceValue(255)\n",
    "\n",
    "SeedType = itk.Index[Dimension]\n",
    "seed1 = SeedType()\n",
    "seed1[0] = 118\n",
    "seed1[1] = 133\n",
    "seed1[2] = 92\n",
    "confidence_connected.AddSeed(seed1)\n",
    "\n",
    "seed2 = SeedType()\n",
    "seed2[0] = 63\n",
    "seed2[1] = 135\n",
    "seed2[2] = 94\n",
    "confidence_connected.AddSeed(seed2)\n",
    "\n",
    "seed3 = SeedType()\n",
    "seed3[0] = 63\n",
    "seed3[1] = 157\n",
    "seed3[2] = 90\n",
    "confidence_connected.AddSeed(seed3)\n",
    "\n",
    "seed4 = SeedType()\n",
    "seed4[0] = 111\n",
    "seed4[1] = 150\n",
    "seed4[2] = 90\n",
    "confidence_connected.AddSeed(seed4)\n",
    "\n",
    "seed5 = SeedType()\n",
    "seed5[0] = 111\n",
    "seed5[1] = 50\n",
    "seed5[2] = 88\n",
    "confidence_connected.AddSeed(seed5)"
   ]
  },
  {
   "cell_type": "code",
   "execution_count": 8,
   "metadata": {
    "collapsed": true
   },
   "outputs": [],
   "source": [
    "writer = itk.ImageFileWriter.New(confidence_connected.GetOutput())\n",
    "writer.SetFileName('WhiteMatterSegmentation.mha')"
   ]
  },
  {
   "cell_type": "code",
   "execution_count": 9,
   "metadata": {
    "collapsed": true
   },
   "outputs": [],
   "source": [
    "# Runs the processing pipeline\n",
    "writer.Update()"
   ]
  },
  {
   "cell_type": "code",
   "execution_count": null,
   "metadata": {
    "collapsed": true
   },
   "outputs": [],
   "source": []
  }
 ],
 "metadata": {
  "kernelspec": {
   "display_name": "Python 2",
   "language": "python",
   "name": "python2"
  },
  "language_info": {
   "codemirror_mode": {
    "name": "ipython",
    "version": 2
   },
   "file_extension": ".py",
   "mimetype": "text/x-python",
   "name": "python",
   "nbconvert_exporter": "python",
   "pygments_lexer": "ipython2",
   "version": "2.7.12"
  }
 },
 "nbformat": 4,
 "nbformat_minor": 2
}
